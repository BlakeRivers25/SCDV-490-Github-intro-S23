{
 "cells": [
  {
   "cell_type": "markdown",
   "id": "5f92ddd5",
   "metadata": {},
   "source": [
    "# Testing `demo_tools_A`\n",
    "\n",
    "We will use this notebook to test out the functions in `demo_tools_A`.\n",
    "\n",
    "\n",
    "## Reminder!!!!!!\n",
    "\n",
    "Before you `git commit` any edits you have made to this notebook, make sure you clear it out.\n",
    "\n",
    "* Click on **Kernel** (above dropdown menu)\n",
    "* Select **Restart and clear output**\n",
    "* Click on **File** (above dropdown menu) and select **Save and checkpoint**\n",
    "    * Alternatively, to save, you can type *Ctrl-s* (or maybe *Command-s* on Mac?)\n",
    "\n",
    "## Autoreload\n",
    "\n",
    "Note that we are making use of the [autoreload](https://ipython.readthedocs.io/en/stable/config/extensions/autoreload.html) function. This means that when we edit our functions in the external file, it will be reloaded before use in this notebook. "
   ]
  },
  {
   "cell_type": "code",
   "execution_count": null,
   "id": "e5d4e473",
   "metadata": {},
   "outputs": [],
   "source": [
    "from demo_tools_A import add_two_numbers\n",
    "\n",
    "%load_ext autoreload\n",
    "%autoreload 2"
   ]
  },
  {
   "cell_type": "code",
   "execution_count": null,
   "id": "55e594fa",
   "metadata": {},
   "outputs": [],
   "source": [
    "add_two_numbers(60,20)"
   ]
  },
  {
   "cell_type": "markdown",
   "id": "5f05c543",
   "metadata": {},
   "source": [
    "***Challenge!!!***\n",
    "\n",
    "Try editing the `add_two_numbers` function so that it gives a different value. To do this, you will want to open the `demo_tools_A.py` file, either in Jupyter from the launch page, or with the editor of your choice. \n",
    "\n",
    "Make sure you save the `demo_tools_A.py` file and then try re-running the above cell *without re-running the very first cell of this notebook*.\n",
    "\n",
    "Did the edits work? If so, great! Make sure you put it back to how it was. \n",
    "\n"
   ]
  },
  {
   "cell_type": "code",
   "execution_count": null,
   "id": "b34a2a4b",
   "metadata": {},
   "outputs": [],
   "source": []
  }
 ],
 "metadata": {
  "kernelspec": {
   "display_name": "Python 3 (ipykernel)",
   "language": "python",
   "name": "python3"
  },
  "language_info": {
   "codemirror_mode": {
    "name": "ipython",
    "version": 3
   },
   "file_extension": ".py",
   "mimetype": "text/x-python",
   "name": "python",
   "nbconvert_exporter": "python",
   "pygments_lexer": "ipython3",
   "version": "3.9.12"
  }
 },
 "nbformat": 4,
 "nbformat_minor": 5
}
